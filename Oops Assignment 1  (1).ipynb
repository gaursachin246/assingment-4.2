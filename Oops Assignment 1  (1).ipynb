{
 "cells": [
  {
   "cell_type": "code",
   "execution_count": 1,
   "id": "8dedd5c8-cfa5-4098-aeff-170151f0f98a",
   "metadata": {},
   "outputs": [],
   "source": [
    "#Q.1\n",
    "class TATA_MOTORS :\n",
    "    def welcome_msg(self):\n",
    "        print(\"welcome to TATA MOTORS\")"
   ]
  },
  {
   "cell_type": "code",
   "execution_count": 2,
   "id": "6a32d07f-7ed5-4a55-99bc-4c3fe9b7abb5",
   "metadata": {},
   "outputs": [],
   "source": [
    "roy = TATA_MOTORS()"
   ]
  },
  {
   "cell_type": "code",
   "execution_count": 3,
   "id": "4f6cd6bf-ef93-4aa1-9bb8-6ecc48758b0d",
   "metadata": {},
   "outputs": [
    {
     "name": "stdout",
     "output_type": "stream",
     "text": [
      "welcome to TATA MOTORS\n"
     ]
    }
   ],
   "source": [
    "roy.welcome_msg()"
   ]
  },
  {
   "cell_type": "code",
   "execution_count": 4,
   "id": "324ccfc6-4edd-47ca-9900-57c7e84b8a3b",
   "metadata": {},
   "outputs": [],
   "source": [
    "#Q.2 \n",
    "class pillar :\n",
    "    def pillar_name(self):\n",
    "        print(\"The name of four pillars of oops are polymorphism,encapsulation,inheritance and abstraction\")"
   ]
  },
  {
   "cell_type": "code",
   "execution_count": 5,
   "id": "21efaa1a-38f8-4447-a0c8-f8aacb437fb7",
   "metadata": {},
   "outputs": [],
   "source": [
    "p = pillar()"
   ]
  },
  {
   "cell_type": "code",
   "execution_count": 6,
   "id": "1fff2897-27a2-43c2-b6ea-1559d4e3a43c",
   "metadata": {},
   "outputs": [
    {
     "name": "stdout",
     "output_type": "stream",
     "text": [
      "The name of four pillars of oops are polymorphism,encapsulation,inheritance and abstraction\n"
     ]
    }
   ],
   "source": [
    "p.pillar_name()"
   ]
  },
  {
   "cell_type": "code",
   "execution_count": 7,
   "id": "7903c7bc-9607-4a6b-974c-5389024a3277",
   "metadata": {},
   "outputs": [],
   "source": [
    "#Q.3 \n",
    "class kbc :\n",
    "    def __init__(self,name,number):\n",
    "        self.name = name\n",
    "        self.number = number \n",
    "    def students_details(self):\n",
    "        return self.name,self.number"
   ]
  },
  {
   "cell_type": "code",
   "execution_count": 8,
   "id": "c889c575-8240-46d0-b214-e67c7541b102",
   "metadata": {},
   "outputs": [],
   "source": [
    "l = kbc(\"teena\",89706754)"
   ]
  },
  {
   "cell_type": "code",
   "execution_count": 9,
   "id": "fa9d5465-4cc2-49bc-8b2d-c9e0059dedc9",
   "metadata": {},
   "outputs": [
    {
     "data": {
      "text/plain": [
       "('teena', 89706754)"
      ]
     },
     "execution_count": 9,
     "metadata": {},
     "output_type": "execute_result"
    }
   ],
   "source": [
    "l.students_details()"
   ]
  },
  {
   "cell_type": "raw",
   "id": "847b00e1-b6b0-4675-b4b1-a5f18b959193",
   "metadata": {},
   "source": [
    "#Q.4 \n",
    " Self is used for reference to current instance to the class "
   ]
  },
  {
   "cell_type": "raw",
   "id": "0473a95c-0fdc-40ca-b636-67dc93559f3d",
   "metadata": {},
   "source": [
    "#Q.5 \n",
    " There are five types of inheritence - 1.single,2.multiple,3.multilevel,4.hierachical,5.hybrid "
   ]
  },
  {
   "cell_type": "code",
   "execution_count": 10,
   "id": "048890d8-811f-4920-82f5-d98741bf9242",
   "metadata": {},
   "outputs": [],
   "source": [
    "class test :\n",
    "    \n",
    "    def test_meth(self):\n",
    "        print(\"this is my test class\")"
   ]
  },
  {
   "cell_type": "code",
   "execution_count": 11,
   "id": "f92c39e1-8ccf-471d-9f50-1cdece53c98e",
   "metadata": {},
   "outputs": [],
   "source": [
    "class test1(test):\n",
    "    def test_class(self):\n",
    "        pass"
   ]
  },
  {
   "cell_type": "code",
   "execution_count": 12,
   "id": "9727dac8-a98d-43d6-adf4-88bcb2e97a85",
   "metadata": {},
   "outputs": [],
   "source": [
    "r = test1()"
   ]
  },
  {
   "cell_type": "code",
   "execution_count": 13,
   "id": "057055f4-a111-4ab4-9f58-f78cb55eff6a",
   "metadata": {},
   "outputs": [
    {
     "name": "stdout",
     "output_type": "stream",
     "text": [
      "this is my test class\n"
     ]
    }
   ],
   "source": [
    "r.test_meth()"
   ]
  },
  {
   "cell_type": "code",
   "execution_count": 14,
   "id": "4162775e-4ba2-422a-95fc-bffd945e9a4b",
   "metadata": {},
   "outputs": [],
   "source": [
    "class class1 :\n",
    "    def meth(self):\n",
    "        print(\"this is my meth class\")"
   ]
  },
  {
   "cell_type": "code",
   "execution_count": 15,
   "id": "623b50e8-0775-4926-9d0e-bd7d2e1c0d19",
   "metadata": {},
   "outputs": [],
   "source": [
    "class class2(class1):\n",
    "    def physics(self):\n",
    "        print(\"this is my physics class\")"
   ]
  },
  {
   "cell_type": "code",
   "execution_count": 16,
   "id": "c29fefb1-e844-4e1e-8a42-46ba37804998",
   "metadata": {},
   "outputs": [],
   "source": [
    "class class3(class2):\n",
    "    def ful_course(self):\n",
    "        pass"
   ]
  },
  {
   "cell_type": "code",
   "execution_count": 17,
   "id": "49dddbfc-4282-4153-b473-a3510660c645",
   "metadata": {},
   "outputs": [],
   "source": [
    "book = class3()"
   ]
  },
  {
   "cell_type": "code",
   "execution_count": 18,
   "id": "e3b48f28-9420-40c6-a867-351be0366e37",
   "metadata": {},
   "outputs": [],
   "source": [
    "book.ful_course()"
   ]
  },
  {
   "cell_type": "code",
   "execution_count": 19,
   "id": "b164a0ca-0ef9-43aa-9f3d-d9b5450d409f",
   "metadata": {},
   "outputs": [
    {
     "name": "stdout",
     "output_type": "stream",
     "text": [
      "this is my meth class\n"
     ]
    }
   ],
   "source": [
    "book.meth()"
   ]
  },
  {
   "cell_type": "code",
   "execution_count": 20,
   "id": "c69415cb-5a31-4cc7-aef7-e014d0946ffc",
   "metadata": {},
   "outputs": [
    {
     "name": "stdout",
     "output_type": "stream",
     "text": [
      "this is my physics class\n"
     ]
    }
   ],
   "source": [
    "book.physics()"
   ]
  },
  {
   "cell_type": "code",
   "execution_count": null,
   "id": "92b1504e-be2a-447d-b07b-eb59b0cab813",
   "metadata": {},
   "outputs": [],
   "source": []
  }
 ],
 "metadata": {
  "kernelspec": {
   "display_name": "Python 3 (ipykernel)",
   "language": "python",
   "name": "python3"
  },
  "language_info": {
   "codemirror_mode": {
    "name": "ipython",
    "version": 3
   },
   "file_extension": ".py",
   "mimetype": "text/x-python",
   "name": "python",
   "nbconvert_exporter": "python",
   "pygments_lexer": "ipython3",
   "version": "3.10.8"
  }
 },
 "nbformat": 4,
 "nbformat_minor": 5
}
